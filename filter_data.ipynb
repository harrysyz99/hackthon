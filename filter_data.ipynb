{
 "cells": [
  {
   "cell_type": "code",
   "execution_count": 2,
   "outputs": [],
   "source": [
    "import pandas as pd"
   ],
   "metadata": {
    "collapsed": false,
    "ExecuteTime": {
     "end_time": "2023-10-07T19:20:25.215230Z",
     "start_time": "2023-10-07T19:20:25.213232Z"
    }
   },
   "id": "fec798b0deee2d39"
  },
  {
   "cell_type": "code",
   "execution_count": 3,
   "id": "initial_id",
   "metadata": {
    "collapsed": true,
    "ExecuteTime": {
     "end_time": "2023-10-07T19:20:49.764301Z",
     "start_time": "2023-10-07T19:20:26.422236Z"
    }
   },
   "outputs": [],
   "source": [
    "f2 = pd.read_csv(\"MTA_Subway_Hourly_Ridership__Beginning_February_2022.csv\")"
   ]
  },
  {
   "cell_type": "code",
   "execution_count": 7,
   "outputs": [
    {
     "data": {
      "text/plain": "Index(['transit_timestamp', 'station_complex_id', 'station_complex', 'borough',\n       'routes', 'payment_method', 'ridership', 'transfers', 'latitude',\n       'longitude', 'Georeference', 'itsuid'],\n      dtype='object')"
     },
     "execution_count": 7,
     "metadata": {},
     "output_type": "execute_result"
    }
   ],
   "source": [
    "f2.columns"
   ],
   "metadata": {
    "collapsed": false,
    "ExecuteTime": {
     "end_time": "2023-10-07T19:23:28.300145Z",
     "start_time": "2023-10-07T19:23:28.296600Z"
    }
   },
   "id": "4e1437c8e9b7d64e"
  },
  {
   "cell_type": "code",
   "execution_count": 8,
   "outputs": [
    {
     "data": {
      "text/plain": "           transit_timestamp station_complex_id station_complex borough  \\\n0        2022-08-04 04:00:00               H007        1 Av (L)       M   \n1        2023-02-13 03:00:00               H007        1 Av (L)       M   \n2        2023-03-08 04:00:00               H007        1 Av (L)       M   \n3        2023-03-23 03:00:00               H007        1 Av (L)       M   \n4        2023-04-03 05:00:00               H007        1 Av (L)       M   \n...                      ...                ...             ...     ...   \n11763900 2023-01-17 14:00:00               R419   Zerega Av (6)      BX   \n11763901 2023-09-05 13:00:00               R419   Zerega Av (6)      BX   \n11763902 2023-01-15 19:00:00               R419   Zerega Av (6)      BX   \n11763903 2022-10-01 07:00:00               R419   Zerega Av (6)      BX   \n11763904 2022-12-15 07:00:00               R419   Zerega Av (6)      BX   \n\n         routes payment_method  ridership  transfers   latitude  longitude  \\\n0             L           omny         11          0  40.730953 -73.981628   \n1             L           omny         10          0  40.730953 -73.981628   \n2             L           omny          4          0  40.730953 -73.981628   \n3             L           omny         10          0  40.730953 -73.981628   \n4             L           omny         28          0  40.730953 -73.981628   \n...         ...            ...        ...        ...        ...        ...   \n11763900      6      metrocard         54          0  40.836487 -73.847038   \n11763901      6      metrocard        104          0  40.836487 -73.847038   \n11763902      6      metrocard          6          0  40.836487 -73.847038   \n11763903      6           omny         18          0  40.836487 -73.847038   \n11763904      6      metrocard        246          0  40.836487 -73.847038   \n\n                                           Georeference  \\\n0         POINT (-73.98162841796875 40.730953216552734)   \n1         POINT (-73.98162841796875 40.730953216552734)   \n2         POINT (-73.98162841796875 40.730953216552734)   \n3         POINT (-73.98162841796875 40.730953216552734)   \n4         POINT (-73.98162841796875 40.730953216552734)   \n...                                                 ...   \n11763900   POINT (-73.84703826904297 40.83648681640625)   \n11763901   POINT (-73.84703826904297 40.83648681640625)   \n11763902   POINT (-73.84703826904297 40.83648681640625)   \n11763903   POINT (-73.84703826904297 40.83648681640625)   \n11763904   POINT (-73.84703826904297 40.83648681640625)   \n\n                                                    itsuid        day  \n0                    2022-08-04T04:00:00H0071 Av (L)MLomny   Thursday  \n1                    2023-02-13T03:00:00H0071 Av (L)MLomny     Monday  \n2                    2023-03-08T04:00:00H0071 Av (L)MLomny  Wednesday  \n3                    2023-03-23T03:00:00H0071 Av (L)MLomny   Thursday  \n4                    2023-04-03T05:00:00H0071 Av (L)MLomny     Monday  \n...                                                    ...        ...  \n11763900  2023-01-17T14:00:00R419Zerega Av (6)BX6metrocard    Tuesday  \n11763901  2023-09-05T13:00:00R419Zerega Av (6)BX6metrocard    Tuesday  \n11763902  2023-01-15T19:00:00R419Zerega Av (6)BX6metrocard     Sunday  \n11763903       2022-10-01T07:00:00R419Zerega Av (6)BX6omny   Saturday  \n11763904  2022-12-15T07:00:00R419Zerega Av (6)BX6metrocard   Thursday  \n\n[11763905 rows x 13 columns]",
      "text/html": "<div>\n<style scoped>\n    .dataframe tbody tr th:only-of-type {\n        vertical-align: middle;\n    }\n\n    .dataframe tbody tr th {\n        vertical-align: top;\n    }\n\n    .dataframe thead th {\n        text-align: right;\n    }\n</style>\n<table border=\"1\" class=\"dataframe\">\n  <thead>\n    <tr style=\"text-align: right;\">\n      <th></th>\n      <th>transit_timestamp</th>\n      <th>station_complex_id</th>\n      <th>station_complex</th>\n      <th>borough</th>\n      <th>routes</th>\n      <th>payment_method</th>\n      <th>ridership</th>\n      <th>transfers</th>\n      <th>latitude</th>\n      <th>longitude</th>\n      <th>Georeference</th>\n      <th>itsuid</th>\n      <th>day</th>\n    </tr>\n  </thead>\n  <tbody>\n    <tr>\n      <th>0</th>\n      <td>2022-08-04 04:00:00</td>\n      <td>H007</td>\n      <td>1 Av (L)</td>\n      <td>M</td>\n      <td>L</td>\n      <td>omny</td>\n      <td>11</td>\n      <td>0</td>\n      <td>40.730953</td>\n      <td>-73.981628</td>\n      <td>POINT (-73.98162841796875 40.730953216552734)</td>\n      <td>2022-08-04T04:00:00H0071 Av (L)MLomny</td>\n      <td>Thursday</td>\n    </tr>\n    <tr>\n      <th>1</th>\n      <td>2023-02-13 03:00:00</td>\n      <td>H007</td>\n      <td>1 Av (L)</td>\n      <td>M</td>\n      <td>L</td>\n      <td>omny</td>\n      <td>10</td>\n      <td>0</td>\n      <td>40.730953</td>\n      <td>-73.981628</td>\n      <td>POINT (-73.98162841796875 40.730953216552734)</td>\n      <td>2023-02-13T03:00:00H0071 Av (L)MLomny</td>\n      <td>Monday</td>\n    </tr>\n    <tr>\n      <th>2</th>\n      <td>2023-03-08 04:00:00</td>\n      <td>H007</td>\n      <td>1 Av (L)</td>\n      <td>M</td>\n      <td>L</td>\n      <td>omny</td>\n      <td>4</td>\n      <td>0</td>\n      <td>40.730953</td>\n      <td>-73.981628</td>\n      <td>POINT (-73.98162841796875 40.730953216552734)</td>\n      <td>2023-03-08T04:00:00H0071 Av (L)MLomny</td>\n      <td>Wednesday</td>\n    </tr>\n    <tr>\n      <th>3</th>\n      <td>2023-03-23 03:00:00</td>\n      <td>H007</td>\n      <td>1 Av (L)</td>\n      <td>M</td>\n      <td>L</td>\n      <td>omny</td>\n      <td>10</td>\n      <td>0</td>\n      <td>40.730953</td>\n      <td>-73.981628</td>\n      <td>POINT (-73.98162841796875 40.730953216552734)</td>\n      <td>2023-03-23T03:00:00H0071 Av (L)MLomny</td>\n      <td>Thursday</td>\n    </tr>\n    <tr>\n      <th>4</th>\n      <td>2023-04-03 05:00:00</td>\n      <td>H007</td>\n      <td>1 Av (L)</td>\n      <td>M</td>\n      <td>L</td>\n      <td>omny</td>\n      <td>28</td>\n      <td>0</td>\n      <td>40.730953</td>\n      <td>-73.981628</td>\n      <td>POINT (-73.98162841796875 40.730953216552734)</td>\n      <td>2023-04-03T05:00:00H0071 Av (L)MLomny</td>\n      <td>Monday</td>\n    </tr>\n    <tr>\n      <th>...</th>\n      <td>...</td>\n      <td>...</td>\n      <td>...</td>\n      <td>...</td>\n      <td>...</td>\n      <td>...</td>\n      <td>...</td>\n      <td>...</td>\n      <td>...</td>\n      <td>...</td>\n      <td>...</td>\n      <td>...</td>\n      <td>...</td>\n    </tr>\n    <tr>\n      <th>11763900</th>\n      <td>2023-01-17 14:00:00</td>\n      <td>R419</td>\n      <td>Zerega Av (6)</td>\n      <td>BX</td>\n      <td>6</td>\n      <td>metrocard</td>\n      <td>54</td>\n      <td>0</td>\n      <td>40.836487</td>\n      <td>-73.847038</td>\n      <td>POINT (-73.84703826904297 40.83648681640625)</td>\n      <td>2023-01-17T14:00:00R419Zerega Av (6)BX6metrocard</td>\n      <td>Tuesday</td>\n    </tr>\n    <tr>\n      <th>11763901</th>\n      <td>2023-09-05 13:00:00</td>\n      <td>R419</td>\n      <td>Zerega Av (6)</td>\n      <td>BX</td>\n      <td>6</td>\n      <td>metrocard</td>\n      <td>104</td>\n      <td>0</td>\n      <td>40.836487</td>\n      <td>-73.847038</td>\n      <td>POINT (-73.84703826904297 40.83648681640625)</td>\n      <td>2023-09-05T13:00:00R419Zerega Av (6)BX6metrocard</td>\n      <td>Tuesday</td>\n    </tr>\n    <tr>\n      <th>11763902</th>\n      <td>2023-01-15 19:00:00</td>\n      <td>R419</td>\n      <td>Zerega Av (6)</td>\n      <td>BX</td>\n      <td>6</td>\n      <td>metrocard</td>\n      <td>6</td>\n      <td>0</td>\n      <td>40.836487</td>\n      <td>-73.847038</td>\n      <td>POINT (-73.84703826904297 40.83648681640625)</td>\n      <td>2023-01-15T19:00:00R419Zerega Av (6)BX6metrocard</td>\n      <td>Sunday</td>\n    </tr>\n    <tr>\n      <th>11763903</th>\n      <td>2022-10-01 07:00:00</td>\n      <td>R419</td>\n      <td>Zerega Av (6)</td>\n      <td>BX</td>\n      <td>6</td>\n      <td>omny</td>\n      <td>18</td>\n      <td>0</td>\n      <td>40.836487</td>\n      <td>-73.847038</td>\n      <td>POINT (-73.84703826904297 40.83648681640625)</td>\n      <td>2022-10-01T07:00:00R419Zerega Av (6)BX6omny</td>\n      <td>Saturday</td>\n    </tr>\n    <tr>\n      <th>11763904</th>\n      <td>2022-12-15 07:00:00</td>\n      <td>R419</td>\n      <td>Zerega Av (6)</td>\n      <td>BX</td>\n      <td>6</td>\n      <td>metrocard</td>\n      <td>246</td>\n      <td>0</td>\n      <td>40.836487</td>\n      <td>-73.847038</td>\n      <td>POINT (-73.84703826904297 40.83648681640625)</td>\n      <td>2022-12-15T07:00:00R419Zerega Av (6)BX6metrocard</td>\n      <td>Thursday</td>\n    </tr>\n  </tbody>\n</table>\n<p>11763905 rows × 13 columns</p>\n</div>"
     },
     "execution_count": 8,
     "metadata": {},
     "output_type": "execute_result"
    }
   ],
   "source": [
    "\n",
    "\n",
    "# Convert string to datetime format\n",
    "f2['transit_timestamp'] = pd.to_datetime(f2['transit_timestamp'])\n",
    "\n",
    "# Add a column for the day of the week\n",
    "f2['day'] = f2['transit_timestamp'].dt.day_name()\n",
    "\n",
    "f2"
   ],
   "metadata": {
    "collapsed": false,
    "ExecuteTime": {
     "end_time": "2023-10-07T19:24:08.857298Z",
     "start_time": "2023-10-07T19:23:36.889770Z"
    }
   },
   "id": "90c7f4866b95018b"
  },
  {
   "cell_type": "code",
   "execution_count": 10,
   "outputs": [],
   "source": [
    "for day in f2['day'].unique():\n",
    "    filtered_df = f2[f2['day'] == day]\n",
    "    filtered_df.to_csv(f\"{day}.csv\", index=False)"
   ],
   "metadata": {
    "collapsed": false,
    "ExecuteTime": {
     "end_time": "2023-10-07T19:27:37.183249Z",
     "start_time": "2023-10-07T19:26:15.410955Z"
    }
   },
   "id": "f9669d01a476f9d0"
  },
  {
   "cell_type": "code",
   "execution_count": null,
   "outputs": [],
   "source": [
    "df = f2\n",
    "\n",
    "# Convert string to datetime format\n",
    "df['transit_timestamp'] = pd.to_datetime(df['transit_timestamp'])\n",
    "\n",
    "# Extract the date and check for duplicates\n",
    "df['date'] = df['transit_timestamp'].dt.date\n",
    "duplicated_dates = df['date'][df['date'].duplicated(keep='first')]\n",
    "\n",
    "# Filter rows with the same date but different time\n",
    "filtered_df = df[df['date'].isin(duplicated_dates) & (df['transit_timestamp'].dt.time != pd.to_datetime('04:00:00 AM').time)]"
   ],
   "metadata": {
    "collapsed": false
   },
   "id": "f0ae6340d38d7d75"
  },
  {
   "cell_type": "code",
   "execution_count": 24,
   "outputs": [],
   "source": [
    "import pandas as pd\n",
    "wed = pd.read_csv(\"Wednesday.csv\")"
   ],
   "metadata": {
    "collapsed": false,
    "ExecuteTime": {
     "end_time": "2023-10-07T21:01:55.755260Z",
     "start_time": "2023-10-07T21:01:52.509712Z"
    }
   },
   "id": "83a827e118cad515"
  },
  {
   "cell_type": "code",
   "execution_count": 30,
   "outputs": [
    {
     "data": {
      "text/plain": "         transit_timestamp station_complex_id          station_complex  \\\n87608  2022-10-19 09:00:00               R176  137 St-City College (1)   \n87609  2022-06-01 11:00:00               R176  137 St-City College (1)   \n87614  2022-06-08 07:00:00               R176  137 St-City College (1)   \n87616  2022-05-18 16:00:00               R176  137 St-City College (1)   \n87617  2022-11-02 19:00:00               R176  137 St-City College (1)   \n...                    ...                ...                      ...   \n94351  2022-11-09 04:00:00               R176  137 St-City College (1)   \n94354  2023-09-27 05:00:00               R176  137 St-City College (1)   \n94355  2023-08-16 19:00:00               R176  137 St-City College (1)   \n94356  2023-05-24 21:00:00               R176  137 St-City College (1)   \n94357  2023-04-26 10:00:00               R176  137 St-City College (1)   \n\n      borough routes payment_method  ridership  transfers   latitude  \\\n87608       M      1      metrocard        387          0  40.822006   \n87609       M      1           omny        103          0  40.822006   \n87614       M      1      metrocard        696          4  40.822006   \n87616       M      1      metrocard        385          3  40.822006   \n87617       M      1      metrocard        239          1  40.822006   \n...       ...    ...            ...        ...        ...        ...   \n94351       M      1           omny         15          0  40.822006   \n94354       M      1      metrocard        500          0  40.822006   \n94355       M      1           omny        333          3  40.822006   \n94356       M      1      metrocard         69          0  40.822006   \n94357       M      1      metrocard        278          2  40.822006   \n\n       longitude                                  Georeference  \\\n87608 -73.953674  POINT (-73.95367431640625 40.82200622558594)   \n87609 -73.953674  POINT (-73.95367431640625 40.82200622558594)   \n87614 -73.953674  POINT (-73.95367431640625 40.82200622558594)   \n87616 -73.953674  POINT (-73.95367431640625 40.82200622558594)   \n87617 -73.953674  POINT (-73.95367431640625 40.82200622558594)   \n...          ...                                           ...   \n94351 -73.953674  POINT (-73.95367431640625 40.82200622558594)   \n94354 -73.953674  POINT (-73.95367431640625 40.82200622558594)   \n94355 -73.953674  POINT (-73.95367431640625 40.82200622558594)   \n94356 -73.953674  POINT (-73.95367431640625 40.82200622558594)   \n94357 -73.953674  POINT (-73.95367431640625 40.82200622558594)   \n\n                                                  itsuid        day  \n87608  2022-10-19T09:00:00R176137 St-City College (1)...  Wednesday  \n87609  2022-06-01T11:00:00R176137 St-City College (1)...  Wednesday  \n87614  2022-06-08T07:00:00R176137 St-City College (1)...  Wednesday  \n87616  2022-05-18T16:00:00R176137 St-City College (1)...  Wednesday  \n87617  2022-11-02T19:00:00R176137 St-City College (1)...  Wednesday  \n...                                                  ...        ...  \n94351  2022-11-09T04:00:00R176137 St-City College (1)...  Wednesday  \n94354  2023-09-27T05:00:00R176137 St-City College (1)...  Wednesday  \n94355  2023-08-16T19:00:00R176137 St-City College (1)...  Wednesday  \n94356  2023-05-24T21:00:00R176137 St-City College (1)...  Wednesday  \n94357  2023-04-26T10:00:00R176137 St-City College (1)...  Wednesday  \n\n[4136 rows x 13 columns]",
      "text/html": "<div>\n<style scoped>\n    .dataframe tbody tr th:only-of-type {\n        vertical-align: middle;\n    }\n\n    .dataframe tbody tr th {\n        vertical-align: top;\n    }\n\n    .dataframe thead th {\n        text-align: right;\n    }\n</style>\n<table border=\"1\" class=\"dataframe\">\n  <thead>\n    <tr style=\"text-align: right;\">\n      <th></th>\n      <th>transit_timestamp</th>\n      <th>station_complex_id</th>\n      <th>station_complex</th>\n      <th>borough</th>\n      <th>routes</th>\n      <th>payment_method</th>\n      <th>ridership</th>\n      <th>transfers</th>\n      <th>latitude</th>\n      <th>longitude</th>\n      <th>Georeference</th>\n      <th>itsuid</th>\n      <th>day</th>\n    </tr>\n  </thead>\n  <tbody>\n    <tr>\n      <th>87608</th>\n      <td>2022-10-19 09:00:00</td>\n      <td>R176</td>\n      <td>137 St-City College (1)</td>\n      <td>M</td>\n      <td>1</td>\n      <td>metrocard</td>\n      <td>387</td>\n      <td>0</td>\n      <td>40.822006</td>\n      <td>-73.953674</td>\n      <td>POINT (-73.95367431640625 40.82200622558594)</td>\n      <td>2022-10-19T09:00:00R176137 St-City College (1)...</td>\n      <td>Wednesday</td>\n    </tr>\n    <tr>\n      <th>87609</th>\n      <td>2022-06-01 11:00:00</td>\n      <td>R176</td>\n      <td>137 St-City College (1)</td>\n      <td>M</td>\n      <td>1</td>\n      <td>omny</td>\n      <td>103</td>\n      <td>0</td>\n      <td>40.822006</td>\n      <td>-73.953674</td>\n      <td>POINT (-73.95367431640625 40.82200622558594)</td>\n      <td>2022-06-01T11:00:00R176137 St-City College (1)...</td>\n      <td>Wednesday</td>\n    </tr>\n    <tr>\n      <th>87614</th>\n      <td>2022-06-08 07:00:00</td>\n      <td>R176</td>\n      <td>137 St-City College (1)</td>\n      <td>M</td>\n      <td>1</td>\n      <td>metrocard</td>\n      <td>696</td>\n      <td>4</td>\n      <td>40.822006</td>\n      <td>-73.953674</td>\n      <td>POINT (-73.95367431640625 40.82200622558594)</td>\n      <td>2022-06-08T07:00:00R176137 St-City College (1)...</td>\n      <td>Wednesday</td>\n    </tr>\n    <tr>\n      <th>87616</th>\n      <td>2022-05-18 16:00:00</td>\n      <td>R176</td>\n      <td>137 St-City College (1)</td>\n      <td>M</td>\n      <td>1</td>\n      <td>metrocard</td>\n      <td>385</td>\n      <td>3</td>\n      <td>40.822006</td>\n      <td>-73.953674</td>\n      <td>POINT (-73.95367431640625 40.82200622558594)</td>\n      <td>2022-05-18T16:00:00R176137 St-City College (1)...</td>\n      <td>Wednesday</td>\n    </tr>\n    <tr>\n      <th>87617</th>\n      <td>2022-11-02 19:00:00</td>\n      <td>R176</td>\n      <td>137 St-City College (1)</td>\n      <td>M</td>\n      <td>1</td>\n      <td>metrocard</td>\n      <td>239</td>\n      <td>1</td>\n      <td>40.822006</td>\n      <td>-73.953674</td>\n      <td>POINT (-73.95367431640625 40.82200622558594)</td>\n      <td>2022-11-02T19:00:00R176137 St-City College (1)...</td>\n      <td>Wednesday</td>\n    </tr>\n    <tr>\n      <th>...</th>\n      <td>...</td>\n      <td>...</td>\n      <td>...</td>\n      <td>...</td>\n      <td>...</td>\n      <td>...</td>\n      <td>...</td>\n      <td>...</td>\n      <td>...</td>\n      <td>...</td>\n      <td>...</td>\n      <td>...</td>\n      <td>...</td>\n    </tr>\n    <tr>\n      <th>94351</th>\n      <td>2022-11-09 04:00:00</td>\n      <td>R176</td>\n      <td>137 St-City College (1)</td>\n      <td>M</td>\n      <td>1</td>\n      <td>omny</td>\n      <td>15</td>\n      <td>0</td>\n      <td>40.822006</td>\n      <td>-73.953674</td>\n      <td>POINT (-73.95367431640625 40.82200622558594)</td>\n      <td>2022-11-09T04:00:00R176137 St-City College (1)...</td>\n      <td>Wednesday</td>\n    </tr>\n    <tr>\n      <th>94354</th>\n      <td>2023-09-27 05:00:00</td>\n      <td>R176</td>\n      <td>137 St-City College (1)</td>\n      <td>M</td>\n      <td>1</td>\n      <td>metrocard</td>\n      <td>500</td>\n      <td>0</td>\n      <td>40.822006</td>\n      <td>-73.953674</td>\n      <td>POINT (-73.95367431640625 40.82200622558594)</td>\n      <td>2023-09-27T05:00:00R176137 St-City College (1)...</td>\n      <td>Wednesday</td>\n    </tr>\n    <tr>\n      <th>94355</th>\n      <td>2023-08-16 19:00:00</td>\n      <td>R176</td>\n      <td>137 St-City College (1)</td>\n      <td>M</td>\n      <td>1</td>\n      <td>omny</td>\n      <td>333</td>\n      <td>3</td>\n      <td>40.822006</td>\n      <td>-73.953674</td>\n      <td>POINT (-73.95367431640625 40.82200622558594)</td>\n      <td>2023-08-16T19:00:00R176137 St-City College (1)...</td>\n      <td>Wednesday</td>\n    </tr>\n    <tr>\n      <th>94356</th>\n      <td>2023-05-24 21:00:00</td>\n      <td>R176</td>\n      <td>137 St-City College (1)</td>\n      <td>M</td>\n      <td>1</td>\n      <td>metrocard</td>\n      <td>69</td>\n      <td>0</td>\n      <td>40.822006</td>\n      <td>-73.953674</td>\n      <td>POINT (-73.95367431640625 40.82200622558594)</td>\n      <td>2023-05-24T21:00:00R176137 St-City College (1)...</td>\n      <td>Wednesday</td>\n    </tr>\n    <tr>\n      <th>94357</th>\n      <td>2023-04-26 10:00:00</td>\n      <td>R176</td>\n      <td>137 St-City College (1)</td>\n      <td>M</td>\n      <td>1</td>\n      <td>metrocard</td>\n      <td>278</td>\n      <td>2</td>\n      <td>40.822006</td>\n      <td>-73.953674</td>\n      <td>POINT (-73.95367431640625 40.82200622558594)</td>\n      <td>2023-04-26T10:00:00R176137 St-City College (1)...</td>\n      <td>Wednesday</td>\n    </tr>\n  </tbody>\n</table>\n<p>4136 rows × 13 columns</p>\n</div>"
     },
     "execution_count": 30,
     "metadata": {},
     "output_type": "execute_result"
    }
   ],
   "source": [
    "wed[wed['station_complex'].str.startswith(\"137\")]"
   ],
   "metadata": {
    "collapsed": false,
    "ExecuteTime": {
     "end_time": "2023-10-07T21:06:54.477191Z",
     "start_time": "2023-10-07T21:06:54.187543Z"
    }
   },
   "id": "b6fede7ab72be6ca"
  },
  {
   "cell_type": "code",
   "execution_count": 26,
   "outputs": [
    {
     "data": {
      "text/plain": "          transit_timestamp station_complex_id station_complex borough routes  \\\n329     2023-07-12 04:00:00               H023   DeKalb Av (L)      BK      L   \n330     2023-08-02 19:00:00               H023   DeKalb Av (L)      BK      L   \n331     2023-08-09 23:00:00               H023   DeKalb Av (L)      BK      L   \n332     2023-09-06 04:00:00               H023   DeKalb Av (L)      BK      L   \n968780  2022-04-13 06:00:00               H023   DeKalb Av (L)      BK      L   \n...                     ...                ...             ...     ...    ...   \n975869  2022-09-21 15:00:00               H023   DeKalb Av (L)      BK      L   \n975870  2022-05-25 14:00:00               H023   DeKalb Av (L)      BK      L   \n975871  2022-11-16 05:00:00               H023   DeKalb Av (L)      BK      L   \n975872  2022-08-03 04:00:00               H023   DeKalb Av (L)      BK      L   \n975873  2022-06-22 19:00:00               H023   DeKalb Av (L)      BK      L   \n\n       payment_method  ridership  transfers   latitude  longitude  \\\n329              omny         60          0  40.703812 -73.918427   \n330              omny        600          0  40.703812 -73.918427   \n331              omny        108          0  40.703812 -73.918427   \n332              omny         56          0  40.703812 -73.918427   \n968780           omny        216          9  40.703812 -73.918427   \n...               ...        ...        ...        ...        ...   \n975869           omny        151          5  40.703812 -73.918427   \n975870      metrocard        240         19  40.703812 -73.918427   \n975871           omny        111          3  40.703812 -73.918427   \n975872           omny         19          0  40.703812 -73.918427   \n975873      metrocard        117          2  40.703812 -73.918427   \n\n                                        Georeference  \\\n329     POINT (-73.91842651367188 40.70381164550781)   \n330     POINT (-73.91842651367188 40.70381164550781)   \n331     POINT (-73.91842651367188 40.70381164550781)   \n332     POINT (-73.91842651367188 40.70381164550781)   \n968780  POINT (-73.91842651367188 40.70381164550781)   \n...                                              ...   \n975869  POINT (-73.91842651367188 40.70381164550781)   \n975870  POINT (-73.91842651367188 40.70381164550781)   \n975871  POINT (-73.91842651367188 40.70381164550781)   \n975872  POINT (-73.91842651367188 40.70381164550781)   \n975873  POINT (-73.91842651367188 40.70381164550781)   \n\n                                                  itsuid        day  \n329          2023-07-12T04:00:00H023DeKalb Av (L)BKLomny  Wednesday  \n330          2023-08-02T19:00:00H023DeKalb Av (L)BKLomny  Wednesday  \n331          2023-08-09T23:00:00H023DeKalb Av (L)BKLomny  Wednesday  \n332          2023-09-06T04:00:00H023DeKalb Av (L)BKLomny  Wednesday  \n968780       2022-04-13T06:00:00H023DeKalb Av (L)BKLomny  Wednesday  \n...                                                  ...        ...  \n975869       2022-09-21T15:00:00H023DeKalb Av (L)BKLomny  Wednesday  \n975870  2022-05-25T14:00:00H023DeKalb Av (L)BKLmetrocard  Wednesday  \n975871       2022-11-16T05:00:00H023DeKalb Av (L)BKLomny  Wednesday  \n975872       2022-08-03T04:00:00H023DeKalb Av (L)BKLomny  Wednesday  \n975873  2022-06-22T19:00:00H023DeKalb Av (L)BKLmetrocard  Wednesday  \n\n[4106 rows x 13 columns]",
      "text/html": "<div>\n<style scoped>\n    .dataframe tbody tr th:only-of-type {\n        vertical-align: middle;\n    }\n\n    .dataframe tbody tr th {\n        vertical-align: top;\n    }\n\n    .dataframe thead th {\n        text-align: right;\n    }\n</style>\n<table border=\"1\" class=\"dataframe\">\n  <thead>\n    <tr style=\"text-align: right;\">\n      <th></th>\n      <th>transit_timestamp</th>\n      <th>station_complex_id</th>\n      <th>station_complex</th>\n      <th>borough</th>\n      <th>routes</th>\n      <th>payment_method</th>\n      <th>ridership</th>\n      <th>transfers</th>\n      <th>latitude</th>\n      <th>longitude</th>\n      <th>Georeference</th>\n      <th>itsuid</th>\n      <th>day</th>\n    </tr>\n  </thead>\n  <tbody>\n    <tr>\n      <th>329</th>\n      <td>2023-07-12 04:00:00</td>\n      <td>H023</td>\n      <td>DeKalb Av (L)</td>\n      <td>BK</td>\n      <td>L</td>\n      <td>omny</td>\n      <td>60</td>\n      <td>0</td>\n      <td>40.703812</td>\n      <td>-73.918427</td>\n      <td>POINT (-73.91842651367188 40.70381164550781)</td>\n      <td>2023-07-12T04:00:00H023DeKalb Av (L)BKLomny</td>\n      <td>Wednesday</td>\n    </tr>\n    <tr>\n      <th>330</th>\n      <td>2023-08-02 19:00:00</td>\n      <td>H023</td>\n      <td>DeKalb Av (L)</td>\n      <td>BK</td>\n      <td>L</td>\n      <td>omny</td>\n      <td>600</td>\n      <td>0</td>\n      <td>40.703812</td>\n      <td>-73.918427</td>\n      <td>POINT (-73.91842651367188 40.70381164550781)</td>\n      <td>2023-08-02T19:00:00H023DeKalb Av (L)BKLomny</td>\n      <td>Wednesday</td>\n    </tr>\n    <tr>\n      <th>331</th>\n      <td>2023-08-09 23:00:00</td>\n      <td>H023</td>\n      <td>DeKalb Av (L)</td>\n      <td>BK</td>\n      <td>L</td>\n      <td>omny</td>\n      <td>108</td>\n      <td>0</td>\n      <td>40.703812</td>\n      <td>-73.918427</td>\n      <td>POINT (-73.91842651367188 40.70381164550781)</td>\n      <td>2023-08-09T23:00:00H023DeKalb Av (L)BKLomny</td>\n      <td>Wednesday</td>\n    </tr>\n    <tr>\n      <th>332</th>\n      <td>2023-09-06 04:00:00</td>\n      <td>H023</td>\n      <td>DeKalb Av (L)</td>\n      <td>BK</td>\n      <td>L</td>\n      <td>omny</td>\n      <td>56</td>\n      <td>0</td>\n      <td>40.703812</td>\n      <td>-73.918427</td>\n      <td>POINT (-73.91842651367188 40.70381164550781)</td>\n      <td>2023-09-06T04:00:00H023DeKalb Av (L)BKLomny</td>\n      <td>Wednesday</td>\n    </tr>\n    <tr>\n      <th>968780</th>\n      <td>2022-04-13 06:00:00</td>\n      <td>H023</td>\n      <td>DeKalb Av (L)</td>\n      <td>BK</td>\n      <td>L</td>\n      <td>omny</td>\n      <td>216</td>\n      <td>9</td>\n      <td>40.703812</td>\n      <td>-73.918427</td>\n      <td>POINT (-73.91842651367188 40.70381164550781)</td>\n      <td>2022-04-13T06:00:00H023DeKalb Av (L)BKLomny</td>\n      <td>Wednesday</td>\n    </tr>\n    <tr>\n      <th>...</th>\n      <td>...</td>\n      <td>...</td>\n      <td>...</td>\n      <td>...</td>\n      <td>...</td>\n      <td>...</td>\n      <td>...</td>\n      <td>...</td>\n      <td>...</td>\n      <td>...</td>\n      <td>...</td>\n      <td>...</td>\n      <td>...</td>\n    </tr>\n    <tr>\n      <th>975869</th>\n      <td>2022-09-21 15:00:00</td>\n      <td>H023</td>\n      <td>DeKalb Av (L)</td>\n      <td>BK</td>\n      <td>L</td>\n      <td>omny</td>\n      <td>151</td>\n      <td>5</td>\n      <td>40.703812</td>\n      <td>-73.918427</td>\n      <td>POINT (-73.91842651367188 40.70381164550781)</td>\n      <td>2022-09-21T15:00:00H023DeKalb Av (L)BKLomny</td>\n      <td>Wednesday</td>\n    </tr>\n    <tr>\n      <th>975870</th>\n      <td>2022-05-25 14:00:00</td>\n      <td>H023</td>\n      <td>DeKalb Av (L)</td>\n      <td>BK</td>\n      <td>L</td>\n      <td>metrocard</td>\n      <td>240</td>\n      <td>19</td>\n      <td>40.703812</td>\n      <td>-73.918427</td>\n      <td>POINT (-73.91842651367188 40.70381164550781)</td>\n      <td>2022-05-25T14:00:00H023DeKalb Av (L)BKLmetrocard</td>\n      <td>Wednesday</td>\n    </tr>\n    <tr>\n      <th>975871</th>\n      <td>2022-11-16 05:00:00</td>\n      <td>H023</td>\n      <td>DeKalb Av (L)</td>\n      <td>BK</td>\n      <td>L</td>\n      <td>omny</td>\n      <td>111</td>\n      <td>3</td>\n      <td>40.703812</td>\n      <td>-73.918427</td>\n      <td>POINT (-73.91842651367188 40.70381164550781)</td>\n      <td>2022-11-16T05:00:00H023DeKalb Av (L)BKLomny</td>\n      <td>Wednesday</td>\n    </tr>\n    <tr>\n      <th>975872</th>\n      <td>2022-08-03 04:00:00</td>\n      <td>H023</td>\n      <td>DeKalb Av (L)</td>\n      <td>BK</td>\n      <td>L</td>\n      <td>omny</td>\n      <td>19</td>\n      <td>0</td>\n      <td>40.703812</td>\n      <td>-73.918427</td>\n      <td>POINT (-73.91842651367188 40.70381164550781)</td>\n      <td>2022-08-03T04:00:00H023DeKalb Av (L)BKLomny</td>\n      <td>Wednesday</td>\n    </tr>\n    <tr>\n      <th>975873</th>\n      <td>2022-06-22 19:00:00</td>\n      <td>H023</td>\n      <td>DeKalb Av (L)</td>\n      <td>BK</td>\n      <td>L</td>\n      <td>metrocard</td>\n      <td>117</td>\n      <td>2</td>\n      <td>40.703812</td>\n      <td>-73.918427</td>\n      <td>POINT (-73.91842651367188 40.70381164550781)</td>\n      <td>2022-06-22T19:00:00H023DeKalb Av (L)BKLmetrocard</td>\n      <td>Wednesday</td>\n    </tr>\n  </tbody>\n</table>\n<p>4106 rows × 13 columns</p>\n</div>"
     },
     "execution_count": 26,
     "metadata": {},
     "output_type": "execute_result"
    }
   ],
   "source": [
    "wed[wed['station_complex_id']=='H023']"
   ],
   "metadata": {
    "collapsed": false,
    "ExecuteTime": {
     "end_time": "2023-10-07T21:01:56.206257Z",
     "start_time": "2023-10-07T21:01:56.152480Z"
    }
   },
   "id": "3fd86a644ae20c63"
  },
  {
   "cell_type": "code",
   "execution_count": 27,
   "outputs": [],
   "source": [
    "remote_id = 'R111'\n",
    "# date = \"2022-07-06\"\n",
    "remote_id_df = wed[wed['station_complex_id']==remote_id]"
   ],
   "metadata": {
    "collapsed": false,
    "ExecuteTime": {
     "end_time": "2023-10-07T21:01:56.254142Z",
     "start_time": "2023-10-07T21:01:56.229463Z"
    }
   },
   "id": "6816bed94f80a8bd"
  },
  {
   "cell_type": "code",
   "execution_count": 28,
   "outputs": [],
   "source": [
    "test = remote_id_df[remote_id_df['transit_timestamp'].str.startswith(date)]\n",
    "test = remote_id_df"
   ],
   "metadata": {
    "collapsed": false,
    "ExecuteTime": {
     "end_time": "2023-10-07T21:01:58.976474Z",
     "start_time": "2023-10-07T21:01:58.972103Z"
    }
   },
   "id": "ba1f99c916b576f6"
  },
  {
   "cell_type": "code",
   "execution_count": 29,
   "outputs": [
    {
     "name": "stderr",
     "output_type": "stream",
     "text": [
      "/var/folders/z5/102n99n926x7011cmbz3_q7w0000gn/T/ipykernel_20495/1878126016.py:8: SettingWithCopyWarning: \n",
      "A value is trying to be set on a copy of a slice from a DataFrame.\n",
      "Try using .loc[row_indexer,col_indexer] = value instead\n",
      "\n",
      "See the caveats in the documentation: https://pandas.pydata.org/pandas-docs/stable/user_guide/indexing.html#returning-a-view-versus-a-copy\n",
      "  df['transit_timestamp'] = pd.to_datetime(df['transit_timestamp'])\n",
      "/var/folders/z5/102n99n926x7011cmbz3_q7w0000gn/T/ipykernel_20495/1878126016.py:9: SettingWithCopyWarning: \n",
      "A value is trying to be set on a copy of a slice from a DataFrame.\n",
      "Try using .loc[row_indexer,col_indexer] = value instead\n",
      "\n",
      "See the caveats in the documentation: https://pandas.pydata.org/pandas-docs/stable/user_guide/indexing.html#returning-a-view-versus-a-copy\n",
      "  df['hour'] = df['transit_timestamp'].dt.hour\n"
     ]
    },
    {
     "data": {
      "text/plain": "<Figure size 864x432 with 1 Axes>",
      "image/png": "[encoded data removed]"
     },
     "metadata": {
      "needs_background": "light"
     },
     "output_type": "display_data"
    }
   ],
   "source": [
    "import pandas as pd\n",
    "import seaborn as sns\n",
    "import matplotlib.pyplot as plt\n",
    "\n",
    "df =test\n",
    "\n",
    "# Convert string to datetime format and extract hour\n",
    "df['transit_timestamp'] = pd.to_datetime(df['transit_timestamp'])\n",
    "df['hour'] = df['transit_timestamp'].dt.hour\n",
    "\n",
    "\n",
    "# Group by hour and count the number of riders\n",
    "hourly_ridership = df.groupby('hour').sum('ridership')\n",
    "hourly_ridership = hourly_ridership.reset_index()\n",
    "hourly_ridership\n",
    "\n",
    "\n",
    "\n",
    "plt.figure(figsize=(12, 6))\n",
    "sns.barplot(data=hourly_ridership, x='hour', y='ridership')\n",
    "plt.title('Ridership Throughout the Day')\n",
    "plt.xlabel('Hour of the Day')\n",
    "plt.ylabel('Number of Riders')\n",
    "plt.show()\n"
   ],
   "metadata": {
    "collapsed": false,
    "ExecuteTime": {
     "end_time": "2023-10-07T21:01:59.904632Z",
     "start_time": "2023-10-07T21:01:59.733023Z"
    }
   },
   "id": "cdfdc353a73e988f"
  },
  {
   "cell_type": "code",
   "execution_count": 17,
   "outputs": [
    {
     "data": {
      "text/plain": "          transit_timestamp station_complex_id station_complex borough routes  \\\n8       2023-01-28 11:00:00               R170      103 St (1)       M      1   \n35      2023-02-11 11:00:00               R254      110 St (6)       M      6   \n47      2022-07-16 11:00:00               N139      111 St (A)       Q      A   \n93      2022-09-24 11:00:00               R308      145 St (3)       M      3   \n107     2022-12-10 11:00:00               N202    155 St (B,D)       M    B,D   \n...                     ...                ...             ...     ...    ...   \n1630861 2023-08-26 11:00:00               R419   Zerega Av (6)      BX      6   \n1630869 2023-04-22 12:00:00               R419   Zerega Av (6)      BX      6   \n1630874 2022-09-10 12:00:00               R419   Zerega Av (6)      BX      6   \n1630883 2023-02-11 12:00:00               R419   Zerega Av (6)      BX      6   \n1630893 2022-08-06 11:00:00               R419   Zerega Av (6)      BX      6   \n\n        payment_method  ridership  transfers   latitude  longitude  \\\n8                 omny        232          0  40.799446 -73.968376   \n35                omny        115          0  40.795021 -73.944252   \n47                omny          8          0  40.684330 -73.832161   \n93                omny         34          0  40.820419 -73.936249   \n107               omny         15          0  40.830135 -73.938210   \n...                ...        ...        ...        ...        ...   \n1630861           omny         33          0  40.836487 -73.847038   \n1630869      metrocard         16          0  40.836487 -73.847038   \n1630874      metrocard         47          1  40.836487 -73.847038   \n1630883           omny         15          0  40.836487 -73.847038   \n1630893           omny         13          0  40.836487 -73.847038   \n\n                                          Georeference  \\\n8         POINT (-73.96837615966797 40.79944610595703)   \n35       POINT (-73.94425201416016 40.795021057128906)   \n47       POINT (-73.83216094970703 40.684329986572266)   \n93        POINT (-73.93624877929688 40.82041931152344)   \n107       POINT (-73.9382095336914 40.830135345458984)   \n...                                                ...   \n1630861   POINT (-73.84703826904297 40.83648681640625)   \n1630869   POINT (-73.84703826904297 40.83648681640625)   \n1630874   POINT (-73.84703826904297 40.83648681640625)   \n1630883   POINT (-73.84703826904297 40.83648681640625)   \n1630893   POINT (-73.84703826904297 40.83648681640625)   \n\n                                                   itsuid       day  \n8                 2023-01-28T11:00:00R170103 St (1)M1omny  Saturday  \n35                2023-02-11T11:00:00R254110 St (6)M6omny  Saturday  \n47                2022-07-16T11:00:00N139111 St (A)QAomny  Saturday  \n93                2022-09-24T11:00:00R308145 St (3)M3omny  Saturday  \n107           2022-12-10T11:00:00N202155 St (B,D)MB,Domny  Saturday  \n...                                                   ...       ...  \n1630861       2023-08-26T11:00:00R419Zerega Av (6)BX6omny  Saturday  \n1630869  2023-04-22T12:00:00R419Zerega Av (6)BX6metrocard  Saturday  \n1630874  2022-09-10T12:00:00R419Zerega Av (6)BX6metrocard  Saturday  \n1630883       2023-02-11T12:00:00R419Zerega Av (6)BX6omny  Saturday  \n1630893       2022-08-06T11:00:00R419Zerega Av (6)BX6omny  Saturday  \n\n[138706 rows x 13 columns]",
      "text/html": "<div>\n<style scoped>\n    .dataframe tbody tr th:only-of-type {\n        vertical-align: middle;\n    }\n\n    .dataframe tbody tr th {\n        vertical-align: top;\n    }\n\n    .dataframe thead th {\n        text-align: right;\n    }\n</style>\n<table border=\"1\" class=\"dataframe\">\n  <thead>\n    <tr style=\"text-align: right;\">\n      <th></th>\n      <th>transit_timestamp</th>\n      <th>station_complex_id</th>\n      <th>station_complex</th>\n      <th>borough</th>\n      <th>routes</th>\n      <th>payment_method</th>\n      <th>ridership</th>\n      <th>transfers</th>\n      <th>latitude</th>\n      <th>longitude</th>\n      <th>Georeference</th>\n      <th>itsuid</th>\n      <th>day</th>\n    </tr>\n  </thead>\n  <tbody>\n    <tr>\n      <th>8</th>\n      <td>2023-01-28 11:00:00</td>\n      <td>R170</td>\n      <td>103 St (1)</td>\n      <td>M</td>\n      <td>1</td>\n      <td>omny</td>\n      <td>232</td>\n      <td>0</td>\n      <td>40.799446</td>\n      <td>-73.968376</td>\n      <td>POINT (-73.96837615966797 40.79944610595703)</td>\n      <td>2023-01-28T11:00:00R170103 St (1)M1omny</td>\n      <td>Saturday</td>\n    </tr>\n    <tr>\n      <th>35</th>\n      <td>2023-02-11 11:00:00</td>\n      <td>R254</td>\n      <td>110 St (6)</td>\n      <td>M</td>\n      <td>6</td>\n      <td>omny</td>\n      <td>115</td>\n      <td>0</td>\n      <td>40.795021</td>\n      <td>-73.944252</td>\n      <td>POINT (-73.94425201416016 40.795021057128906)</td>\n      <td>2023-02-11T11:00:00R254110 St (6)M6omny</td>\n      <td>Saturday</td>\n    </tr>\n    <tr>\n      <th>47</th>\n      <td>2022-07-16 11:00:00</td>\n      <td>N139</td>\n      <td>111 St (A)</td>\n      <td>Q</td>\n      <td>A</td>\n      <td>omny</td>\n      <td>8</td>\n      <td>0</td>\n      <td>40.684330</td>\n      <td>-73.832161</td>\n      <td>POINT (-73.83216094970703 40.684329986572266)</td>\n      <td>2022-07-16T11:00:00N139111 St (A)QAomny</td>\n      <td>Saturday</td>\n    </tr>\n    <tr>\n      <th>93</th>\n      <td>2022-09-24 11:00:00</td>\n      <td>R308</td>\n      <td>145 St (3)</td>\n      <td>M</td>\n      <td>3</td>\n      <td>omny</td>\n      <td>34</td>\n      <td>0</td>\n      <td>40.820419</td>\n      <td>-73.936249</td>\n      <td>POINT (-73.93624877929688 40.82041931152344)</td>\n      <td>2022-09-24T11:00:00R308145 St (3)M3omny</td>\n      <td>Saturday</td>\n    </tr>\n    <tr>\n      <th>107</th>\n      <td>2022-12-10 11:00:00</td>\n      <td>N202</td>\n      <td>155 St (B,D)</td>\n      <td>M</td>\n      <td>B,D</td>\n      <td>omny</td>\n      <td>15</td>\n      <td>0</td>\n      <td>40.830135</td>\n      <td>-73.938210</td>\n      <td>POINT (-73.9382095336914 40.830135345458984)</td>\n      <td>2022-12-10T11:00:00N202155 St (B,D)MB,Domny</td>\n      <td>Saturday</td>\n    </tr>\n    <tr>\n      <th>...</th>\n      <td>...</td>\n      <td>...</td>\n      <td>...</td>\n      <td>...</td>\n      <td>...</td>\n      <td>...</td>\n      <td>...</td>\n      <td>...</td>\n      <td>...</td>\n      <td>...</td>\n      <td>...</td>\n      <td>...</td>\n      <td>...</td>\n    </tr>\n    <tr>\n      <th>1630861</th>\n      <td>2023-08-26 11:00:00</td>\n      <td>R419</td>\n      <td>Zerega Av (6)</td>\n      <td>BX</td>\n      <td>6</td>\n      <td>omny</td>\n      <td>33</td>\n      <td>0</td>\n      <td>40.836487</td>\n      <td>-73.847038</td>\n      <td>POINT (-73.84703826904297 40.83648681640625)</td>\n      <td>2023-08-26T11:00:00R419Zerega Av (6)BX6omny</td>\n      <td>Saturday</td>\n    </tr>\n    <tr>\n      <th>1630869</th>\n      <td>2023-04-22 12:00:00</td>\n      <td>R419</td>\n      <td>Zerega Av (6)</td>\n      <td>BX</td>\n      <td>6</td>\n      <td>metrocard</td>\n      <td>16</td>\n      <td>0</td>\n      <td>40.836487</td>\n      <td>-73.847038</td>\n      <td>POINT (-73.84703826904297 40.83648681640625)</td>\n      <td>2023-04-22T12:00:00R419Zerega Av (6)BX6metrocard</td>\n      <td>Saturday</td>\n    </tr>\n    <tr>\n      <th>1630874</th>\n      <td>2022-09-10 12:00:00</td>\n      <td>R419</td>\n      <td>Zerega Av (6)</td>\n      <td>BX</td>\n      <td>6</td>\n      <td>metrocard</td>\n      <td>47</td>\n      <td>1</td>\n      <td>40.836487</td>\n      <td>-73.847038</td>\n      <td>POINT (-73.84703826904297 40.83648681640625)</td>\n      <td>2022-09-10T12:00:00R419Zerega Av (6)BX6metrocard</td>\n      <td>Saturday</td>\n    </tr>\n    <tr>\n      <th>1630883</th>\n      <td>2023-02-11 12:00:00</td>\n      <td>R419</td>\n      <td>Zerega Av (6)</td>\n      <td>BX</td>\n      <td>6</td>\n      <td>omny</td>\n      <td>15</td>\n      <td>0</td>\n      <td>40.836487</td>\n      <td>-73.847038</td>\n      <td>POINT (-73.84703826904297 40.83648681640625)</td>\n      <td>2023-02-11T12:00:00R419Zerega Av (6)BX6omny</td>\n      <td>Saturday</td>\n    </tr>\n    <tr>\n      <th>1630893</th>\n      <td>2022-08-06 11:00:00</td>\n      <td>R419</td>\n      <td>Zerega Av (6)</td>\n      <td>BX</td>\n      <td>6</td>\n      <td>omny</td>\n      <td>13</td>\n      <td>0</td>\n      <td>40.836487</td>\n      <td>-73.847038</td>\n      <td>POINT (-73.84703826904297 40.83648681640625)</td>\n      <td>2022-08-06T11:00:00R419Zerega Av (6)BX6omny</td>\n      <td>Saturday</td>\n    </tr>\n  </tbody>\n</table>\n<p>138706 rows × 13 columns</p>\n</div>"
     },
     "execution_count": 17,
     "metadata": {},
     "output_type": "execute_result"
    }
   ],
   "source": [
    "wed['transit_timestamp'] = pd.to_datetime(wed['transit_timestamp'])\n",
    "\n",
    "# Filter rows with time between 4:00 AM and 9:00 AM\n",
    "filtered_df = wed[(wed['transit_timestamp'].dt.time >= pd.to_datetime('11:00:00').time()) & \n",
    "                 (wed['transit_timestamp'].dt.time <= pd.to_datetime('12:00:00').time())]\n",
    "\n",
    "filtered_df"
   ],
   "metadata": {
    "collapsed": false,
    "ExecuteTime": {
     "end_time": "2023-10-07T20:44:12.492819Z",
     "start_time": "2023-10-07T20:44:11.558216Z"
    }
   },
   "id": "89171680436b8589"
  },
  {
   "cell_type": "code",
   "execution_count": 18,
   "outputs": [
    {
     "data": {
      "text/plain": "<folium.plugins.heat_map.HeatMap at 0x128845bd0>"
     },
     "execution_count": 18,
     "metadata": {},
     "output_type": "execute_result"
    }
   ],
   "source": [
    "import folium\n",
    "from folium.plugins import HeatMap\n",
    "import pandas as pd\n",
    "\n",
    "# Sample dataset\n",
    "\n",
    "df = filtered_df\n",
    "\n",
    "# Create a map centered around NYC\n",
    "nyc_map = folium.Map(location=[40.730610, -73.935242], zoom_start=12)\n",
    "\n",
    "# Generate heatmap\n",
    "heat_data = [[row['latitude'], row['longitude'], row['ridership']] for index, row in df.iterrows()]\n",
    "HeatMap(heat_data).add_to(nyc_map)\n",
    "\n",
    "# nyc_map.save(\"nyc_ridership_heatmap.html\")\n"
   ],
   "metadata": {
    "collapsed": false,
    "ExecuteTime": {
     "end_time": "2023-10-07T20:44:16.937705Z",
     "start_time": "2023-10-07T20:44:13.685011Z"
    }
   },
   "id": "f8e778c80323ad3a"
  },
  {
   "cell_type": "code",
   "execution_count": 19,
   "outputs": [],
   "source": [
    "\n",
    "nyc_map.save(\"nyc_ridership_heatmap.html\")"
   ],
   "metadata": {
    "collapsed": false,
    "ExecuteTime": {
     "end_time": "2023-10-07T20:44:17.613472Z",
     "start_time": "2023-10-07T20:44:16.935648Z"
    }
   },
   "id": "5a03e14da91c4dac"
  },
  {
   "cell_type": "code",
   "execution_count": null,
   "outputs": [],
   "source": [],
   "metadata": {
    "collapsed": false
   },
   "id": "84266c3f388c3d6a"
  },
  {
   "cell_type": "code",
   "execution_count": 16,
   "outputs": [],
   "source": [
    "wed['transit_timestamp'] = pd.to_datetime(wed['transit_timestamp'])\n",
    "\n",
    "# Filter rows with time between 4:00 AM and 9:00 AM\n",
    "filtered_df = wed[(wed['transit_timestamp'].dt.time >= pd.to_datetime('15:00:00').time()) &\n",
    "                  (wed['transit_timestamp'].dt.time <= pd.to_datetime('19:00:00').time())]\n",
    "\n",
    "filtered_df\n",
    "import folium\n",
    "from folium.plugins import HeatMap\n",
    "import pandas as pd\n",
    "\n",
    "# Sample dataset\n",
    "\n",
    "df = filtered_df\n",
    "\n",
    "# Create a map centered around NYC\n",
    "nyc_map = folium.Map(location=[40.730610, -73.935242], zoom_start=12)\n",
    "\n",
    "# Generate heatmap\n",
    "heat_data = [[row['latitude'], row['longitude'], pow(row['ridership'],0.7)] for index, row in df.iterrows()]\n",
    "HeatMap(heat_data).add_to(nyc_map)\n",
    "\n",
    "# nyc_map.save(\"nyc_ridership_heatmap.html\")\n",
    "\n",
    "nyc_map.save(\"nyc_ridership_heatmap_after.html\")"
   ],
   "metadata": {
    "collapsed": false,
    "ExecuteTime": {
     "end_time": "2023-10-07T20:43:02.895950Z",
     "start_time": "2023-10-07T20:42:51.681715Z"
    }
   },
   "id": "f5834fbfca5b9f3b"
  },
  {
   "cell_type": "code",
   "execution_count": null,
   "outputs": [],
   "source": [],
   "metadata": {
    "collapsed": false
   },
   "id": "fc026d0931359fff"
  }
 ],
 "metadata": {
  "kernelspec": {
   "display_name": "Python 3",
   "language": "python",
   "name": "python3"
  },
  "language_info": {
   "codemirror_mode": {
    "name": "ipython",
    "version": 2
   },
   "file_extension": ".py",
   "mimetype": "text/x-python",
   "name": "python",
   "nbconvert_exporter": "python",
   "pygments_lexer": "ipython2",
   "version": "2.7.6"
  }
 },
 "nbformat": 4,
 "nbformat_minor": 5
}
